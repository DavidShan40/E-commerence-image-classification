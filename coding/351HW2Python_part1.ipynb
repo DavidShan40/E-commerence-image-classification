{
 "cells": [
  {
   "cell_type": "code",
   "execution_count": 111,
   "metadata": {},
   "outputs": [],
   "source": [
    "import numpy as np\n",
    "import pandas as pd\n",
    "\n",
    "import os # used for navigating to image path\n",
    "import imageio # used for writing images\n",
    "\n",
    "from sklearn.preprocessing import LabelEncoder\n",
    "\n",
    "import keras\n",
    "\n",
    "#  Keras preprocessing\n",
    "from keras.preprocessing.image import ImageDataGenerator, array_to_img, img_to_array, load_img\n",
    "from keras.preprocessing import image_dataset_from_directory\n",
    "\n",
    "# Keras modeling\n",
    "from keras.models import Sequential\n",
    "from keras.layers import  Lambda , Dense, Flatten, Dropout, Conv2D, MaxPool2D\n",
    "from keras.callbacks import EarlyStopping\n",
    "from keras.layers import BatchNormalization, Convolution2D , MaxPooling2D"
   ]
  },
  {
   "cell_type": "code",
   "execution_count": 112,
   "metadata": {},
   "outputs": [],
   "source": [
    "train = pd.read_csv('train.csv', error_bad_lines=False, sep = '\\t')\n",
    "test = pd.read_csv('test.csv', error_bad_lines=False, sep = '\\t')"
   ]
  },
  {
   "cell_type": "code",
   "execution_count": 113,
   "metadata": {},
   "outputs": [
    {
     "data": {
      "text/html": [
       "<div>\n",
       "<style scoped>\n",
       "    .dataframe tbody tr th:only-of-type {\n",
       "        vertical-align: middle;\n",
       "    }\n",
       "\n",
       "    .dataframe tbody tr th {\n",
       "        vertical-align: top;\n",
       "    }\n",
       "\n",
       "    .dataframe thead th {\n",
       "        text-align: right;\n",
       "    }\n",
       "</style>\n",
       "<table border=\"1\" class=\"dataframe\">\n",
       "  <thead>\n",
       "    <tr style=\"text-align: right;\">\n",
       "      <th></th>\n",
       "      <th>imageid</th>\n",
       "      <th>label</th>\n",
       "      <th>productname</th>\n",
       "    </tr>\n",
       "  </thead>\n",
       "  <tbody>\n",
       "    <tr>\n",
       "      <th>0</th>\n",
       "      <td>2653</td>\n",
       "      <td>Bags</td>\n",
       "      <td>Murcia Women Leather Office Grey Bag</td>\n",
       "    </tr>\n",
       "    <tr>\n",
       "      <th>1</th>\n",
       "      <td>55997</td>\n",
       "      <td>Others</td>\n",
       "      <td>Colorbar Velvet Matte Temptation Lipstick 24MA</td>\n",
       "    </tr>\n",
       "    <tr>\n",
       "      <th>2</th>\n",
       "      <td>2640</td>\n",
       "      <td>Shoes</td>\n",
       "      <td>Carlton London Men Brown Formal Shoes</td>\n",
       "    </tr>\n",
       "    <tr>\n",
       "      <th>3</th>\n",
       "      <td>40565</td>\n",
       "      <td>Topwear</td>\n",
       "      <td>W Women Maroon Kurta</td>\n",
       "    </tr>\n",
       "    <tr>\n",
       "      <th>4</th>\n",
       "      <td>38932</td>\n",
       "      <td>Bottomwear</td>\n",
       "      <td>Gini and Jony Girls Pink Leggings</td>\n",
       "    </tr>\n",
       "  </tbody>\n",
       "</table>\n",
       "</div>"
      ],
      "text/plain": [
       "   imageid       label                                     productname\n",
       "0     2653        Bags            Murcia Women Leather Office Grey Bag\n",
       "1    55997      Others  Colorbar Velvet Matte Temptation Lipstick 24MA\n",
       "2     2640       Shoes           Carlton London Men Brown Formal Shoes\n",
       "3    40565     Topwear                            W Women Maroon Kurta\n",
       "4    38932  Bottomwear               Gini and Jony Girls Pink Leggings"
      ]
     },
     "execution_count": 113,
     "metadata": {},
     "output_type": "execute_result"
    }
   ],
   "source": [
    "train.head()"
   ]
  },
  {
   "cell_type": "code",
   "execution_count": 114,
   "metadata": {},
   "outputs": [],
   "source": [
    "train['image'] = train.apply(lambda row: str(row['imageid']) + \".jpg\", axis=1)\n",
    "test['image'] = test.apply(lambda row: str(row['imageid']) + \".jpg\", axis=1)"
   ]
  },
  {
   "cell_type": "code",
   "execution_count": 115,
   "metadata": {},
   "outputs": [],
   "source": [
    "path = 'images/'\n",
    "batch_size = 40\n",
    "target_size = (100,100)\n",
    "epochs = 40\n",
    "num_train_samples = train.shape[0]\n",
    "num_test_samples = test.shape[0]"
   ]
  },
  {
   "cell_type": "code",
   "execution_count": 116,
   "metadata": {},
   "outputs": [
    {
     "name": "stdout",
     "output_type": "stream",
     "text": [
      "Training data\n",
      "Found 32353 validated image filenames belonging to 13 classes.\n",
      "Validation data\n",
      "Found 8088 validated image filenames belonging to 13 classes.\n",
      "Test data\n",
      "Found 4000 validated image filenames.\n"
     ]
    }
   ],
   "source": [
    "\n",
    "image_generator = ImageDataGenerator(\n",
    "    validation_split=0.2)\n",
    "print('Training data')\n",
    "training_generator = image_generator.flow_from_dataframe(\n",
    "    dataframe=train,\n",
    "    directory=path,\n",
    "    x_col=\"image\",\n",
    "    y_col=\"label\",\n",
    "    target_size=target_size,\n",
    "    class_mode='categorical',\n",
    "    color_mode=\"grayscale\",\n",
    "    batch_size=batch_size,\n",
    "    subset=\"training\"\n",
    ")\n",
    "print('Validation data')\n",
    "validation_generator = image_generator.flow_from_dataframe(\n",
    "    dataframe=train,\n",
    "    directory=path,\n",
    "    x_col=\"image\",\n",
    "    y_col=\"label\",\n",
    "    target_size=target_size,\n",
    "    class_mode='categorical',\n",
    "    color_mode=\"grayscale\",\n",
    "    batch_size=batch_size,\n",
    "    subset=\"validation\"\n",
    ")\n",
    "print('Test data')\n",
    "test_image_gen = ImageDataGenerator()\n",
    "test_generator = test_image_gen.flow_from_dataframe(\n",
    "    dataframe=test,\n",
    "    directory=path,\n",
    "    x_col='image',\n",
    "    y_col=None,\n",
    "    class_mode=None,\n",
    "    color_mode=\"grayscale\",\n",
    "    target_size=target_size,\n",
    "    batch_size=batch_size,\n",
    "    shuffle=False\n",
    ")\n",
    "\n",
    "\n"
   ]
  },
  {
   "cell_type": "code",
   "execution_count": 117,
   "metadata": {},
   "outputs": [
    {
     "name": "stdout",
     "output_type": "stream",
     "text": [
      "Model: \"sequential_6\"\n",
      "_________________________________________________________________\n",
      "Layer (type)                 Output Shape              Param #   \n",
      "=================================================================\n",
      "conv2d_21 (Conv2D)           (None, 97, 97, 32)        544       \n",
      "_________________________________________________________________\n",
      "max_pooling2d_11 (MaxPooling (None, 48, 48, 32)        0         \n",
      "_________________________________________________________________\n",
      "dropout_22 (Dropout)         (None, 48, 48, 32)        0         \n",
      "_________________________________________________________________\n",
      "flatten_6 (Flatten)          (None, 73728)             0         \n",
      "_________________________________________________________________\n",
      "dense_12 (Dense)             (None, 256)               18874624  \n",
      "_________________________________________________________________\n",
      "dropout_23 (Dropout)         (None, 256)               0         \n",
      "_________________________________________________________________\n",
      "dense_13 (Dense)             (None, 13)                3341      \n",
      "=================================================================\n",
      "Total params: 18,878,509\n",
      "Trainable params: 18,878,509\n",
      "Non-trainable params: 0\n",
      "_________________________________________________________________\n"
     ]
    }
   ],
   "source": [
    "model = Sequential(\n",
    "    [\n",
    "        keras.Input(shape=(100, 100, 1)),\n",
    "        Conv2D(32, kernel_size=(4, 4), activation=\"relu\"),\n",
    "        MaxPooling2D(pool_size=(2, 2)),\n",
    "        Dropout(0.3),\n",
    "        Flatten(),\n",
    "        Dense(256, activation = \"relu\"),\n",
    "        Dropout(0.3),\n",
    "        Dense(13, activation=\"softmax\"),\n",
    "        \n",
    "    ]\n",
    ")\n",
    "\n",
    "model.summary()"
   ]
  },
  {
   "cell_type": "code",
   "execution_count": 118,
   "metadata": {},
   "outputs": [],
   "source": [
    "model.compile(optimizer='rmsprop',loss='binary_crossentropy',metrics=['accuracy'])"
   ]
  },
  {
   "cell_type": "code",
   "execution_count": 119,
   "metadata": {},
   "outputs": [
    {
     "name": "stderr",
     "output_type": "stream",
     "text": [
      "C:\\Users\\24937\\Anaconda3\\lib\\site-packages\\tensorflow\\python\\keras\\engine\\training.py:1844: UserWarning: `Model.fit_generator` is deprecated and will be removed in a future version. Please use `Model.fit`, which supports generators.\n",
      "  warnings.warn('`Model.fit_generator` is deprecated and '\n"
     ]
    },
    {
     "name": "stdout",
     "output_type": "stream",
     "text": [
      "Epoch 1/2\n",
      "808/808 [==============================] - 709s 877ms/step - loss: 12.8503 - accuracy: 0.6878 - val_loss: 0.0707 - val_accuracy: 0.8616\n",
      "Epoch 2/2\n",
      "808/808 [==============================] - 695s 859ms/step - loss: 0.0789 - accuracy: 0.8529 - val_loss: 0.0612 - val_accuracy: 0.8881\n"
     ]
    },
    {
     "data": {
      "text/plain": [
       "<tensorflow.python.keras.callbacks.History at 0x1a628d39d88>"
      ]
     },
     "execution_count": 119,
     "metadata": {},
     "output_type": "execute_result"
    }
   ],
   "source": [
    "model.fit_generator(\n",
    "        training_generator,\n",
    "        steps_per_epoch= 0.8 * num_train_samples // batch_size,\n",
    "        epochs=2,# lower the computational cost\n",
    "        #verbose=1,\n",
    "        validation_data=validation_generator,\n",
    "        validation_steps= 0.2 * num_train_samples // batch_size)"
   ]
  },
  {
   "cell_type": "code",
   "execution_count": 120,
   "metadata": {},
   "outputs": [
    {
     "name": "stderr",
     "output_type": "stream",
     "text": [
      "C:\\Users\\24937\\Anaconda3\\lib\\site-packages\\tensorflow\\python\\keras\\engine\\training.py:1905: UserWarning: `Model.predict_generator` is deprecated and will be removed in a future version. Please use `Model.predict`, which supports generators.\n",
      "  warnings.warn('`Model.predict_generator` is deprecated and '\n"
     ]
    }
   ],
   "source": [
    "predict = model.predict_generator(test_generator, steps=num_test_samples //batch_size )\n",
    "\n",
    "# convert prediction result of integers to categorical names\n",
    "predicted_class_indices=np.argmax(predict,axis=1)\n",
    "labels = (training_generator.class_indices)\n",
    "labels = dict((v,k) for k,v in labels.items())\n",
    "predictions = [labels[k] for k in predicted_class_indices]"
   ]
  },
  {
   "cell_type": "code",
   "execution_count": 121,
   "metadata": {},
   "outputs": [
    {
     "data": {
      "text/plain": [
       "0.88525"
      ]
     },
     "execution_count": 121,
     "metadata": {},
     "output_type": "execute_result"
    }
   ],
   "source": [
    "from sklearn.metrics import accuracy_score\n",
    "\n",
    "accuracy_score(test['label'], predictions)"
   ]
  },
  {
   "cell_type": "code",
   "execution_count": null,
   "metadata": {},
   "outputs": [],
   "source": []
  }
 ],
 "metadata": {
  "kernelspec": {
   "display_name": "Python 3",
   "language": "python",
   "name": "python3"
  },
  "language_info": {
   "codemirror_mode": {
    "name": "ipython",
    "version": 3
   },
   "file_extension": ".py",
   "mimetype": "text/x-python",
   "name": "python",
   "nbconvert_exporter": "python",
   "pygments_lexer": "ipython3",
   "version": "3.7.7"
  }
 },
 "nbformat": 4,
 "nbformat_minor": 4
}
