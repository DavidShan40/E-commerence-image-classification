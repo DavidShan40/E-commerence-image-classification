{
 "cells": [
  {
   "cell_type": "code",
   "execution_count": 67,
   "metadata": {},
   "outputs": [],
   "source": [
    "import numpy as np\n",
    "import pandas as pd\n",
    "\n",
    "import os # used for navigating to image path\n",
    "import imageio # used for writing images\n",
    "\n",
    "from sklearn.preprocessing import LabelEncoder\n",
    "\n",
    "import keras\n",
    "\n",
    "#  Keras preprocessing\n",
    "from keras.preprocessing.image import ImageDataGenerator, array_to_img, img_to_array, load_img\n",
    "from keras.preprocessing import image_dataset_from_directory\n",
    "\n",
    "# Keras modeling\n",
    "from keras.models import Sequential\n",
    "from keras.layers import  Lambda , Dense, Flatten, Dropout, Conv2D, MaxPool2D\n",
    "from keras.callbacks import EarlyStopping\n",
    "from keras.layers import BatchNormalization, Convolution2D , MaxPooling2D"
   ]
  },
  {
   "cell_type": "code",
   "execution_count": 74,
   "metadata": {},
   "outputs": [],
   "source": [
    "train = pd.read_csv('train.csv', error_bad_lines=False, nrows = 300, sep = '\\t')\n",
    "test = pd.read_csv('test.csv', error_bad_lines=False, sep = '\\t')\n",
    "train_text = train['productname']\n",
    "test_text = test['productname']\n",
    "train_tags = train['label']\n",
    "test_tags = test['label']"
   ]
  },
  {
   "cell_type": "code",
   "execution_count": 69,
   "metadata": {},
   "outputs": [
    {
     "data": {
      "text/html": [
       "<div>\n",
       "<style scoped>\n",
       "    .dataframe tbody tr th:only-of-type {\n",
       "        vertical-align: middle;\n",
       "    }\n",
       "\n",
       "    .dataframe tbody tr th {\n",
       "        vertical-align: top;\n",
       "    }\n",
       "\n",
       "    .dataframe thead th {\n",
       "        text-align: right;\n",
       "    }\n",
       "</style>\n",
       "<table border=\"1\" class=\"dataframe\">\n",
       "  <thead>\n",
       "    <tr style=\"text-align: right;\">\n",
       "      <th></th>\n",
       "      <th>imageid</th>\n",
       "      <th>label</th>\n",
       "      <th>productname</th>\n",
       "    </tr>\n",
       "  </thead>\n",
       "  <tbody>\n",
       "    <tr>\n",
       "      <th>0</th>\n",
       "      <td>2653</td>\n",
       "      <td>Bags</td>\n",
       "      <td>Murcia Women Leather Office Grey Bag</td>\n",
       "    </tr>\n",
       "    <tr>\n",
       "      <th>1</th>\n",
       "      <td>55997</td>\n",
       "      <td>Others</td>\n",
       "      <td>Colorbar Velvet Matte Temptation Lipstick 24MA</td>\n",
       "    </tr>\n",
       "    <tr>\n",
       "      <th>2</th>\n",
       "      <td>2640</td>\n",
       "      <td>Shoes</td>\n",
       "      <td>Carlton London Men Brown Formal Shoes</td>\n",
       "    </tr>\n",
       "    <tr>\n",
       "      <th>3</th>\n",
       "      <td>40565</td>\n",
       "      <td>Topwear</td>\n",
       "      <td>W Women Maroon Kurta</td>\n",
       "    </tr>\n",
       "    <tr>\n",
       "      <th>4</th>\n",
       "      <td>38932</td>\n",
       "      <td>Bottomwear</td>\n",
       "      <td>Gini and Jony Girls Pink Leggings</td>\n",
       "    </tr>\n",
       "  </tbody>\n",
       "</table>\n",
       "</div>"
      ],
      "text/plain": [
       "   imageid       label                                     productname\n",
       "0     2653        Bags            Murcia Women Leather Office Grey Bag\n",
       "1    55997      Others  Colorbar Velvet Matte Temptation Lipstick 24MA\n",
       "2     2640       Shoes           Carlton London Men Brown Formal Shoes\n",
       "3    40565     Topwear                            W Women Maroon Kurta\n",
       "4    38932  Bottomwear               Gini and Jony Girls Pink Leggings"
      ]
     },
     "execution_count": 69,
     "metadata": {},
     "output_type": "execute_result"
    }
   ],
   "source": [
    "train.head()"
   ]
  },
  {
   "cell_type": "code",
   "execution_count": 70,
   "metadata": {},
   "outputs": [],
   "source": [
    "epochs = 3\n",
    "top_model.compile(\n",
    "    optimizer=keras.optimizers.Adam(),\n",
    "    loss=keras.losses.BinaryCrossentropy(from_logits=True),\n",
    "    metrics=[keras.metrics.BinaryAccuracy()],\n",
    ")"
   ]
  },
  {
   "cell_type": "code",
   "execution_count": 71,
   "metadata": {},
   "outputs": [],
   "source": [
    "from keras.preprocessing import text, sequence\n",
    "\n",
    "max_words = 10000\n",
    "tokenize = text.Tokenizer(num_words=max_words, char_level=False)\n",
    "tokenize.fit_on_texts(train_text)\n",
    "x_train = tokenize.texts_to_matrix(train_text)\n",
    "test_text = test_text.astype(str)\n",
    "x_test = tokenize.texts_to_matrix(test_text)"
   ]
  },
  {
   "cell_type": "code",
   "execution_count": 75,
   "metadata": {},
   "outputs": [],
   "source": [
    "from keras import utils\n",
    "\n",
    "\n",
    "encoder = LabelEncoder()\n",
    "encoder.fit(train_tags)\n",
    "y_train = encoder.transform(train_tags)\n",
    "y_test = encoder.transform(test_tags)\n",
    "num_classes = np.max(y_train) + 1\n",
    "y_train = utils.to_categorical(y_train, num_classes)\n",
    "y_test = utils.to_categorical(y_test, num_classes)\n"
   ]
  },
  {
   "cell_type": "code",
   "execution_count": null,
   "metadata": {},
   "outputs": [],
   "source": []
  },
  {
   "cell_type": "code",
   "execution_count": 82,
   "metadata": {},
   "outputs": [],
   "source": [
    "top_model = Sequential()\n",
    "top_model.add(layers.Input(shape=(max_words,)))\n",
    "top_model.add(Flatten())\n",
    "top_model.add(Dense(256, activation='relu'))\n",
    "top_model.add(Dropout(0.1))\n",
    "top_model.add(Dense(256, activation='relu'))\n",
    "top_model.add(Dense(13, activation='sigmoid'))\n"
   ]
  },
  {
   "cell_type": "code",
   "execution_count": 103,
   "metadata": {},
   "outputs": [
    {
     "name": "stdout",
     "output_type": "stream",
     "text": [
      "Model: \"sequential_10\"\n",
      "_________________________________________________________________\n",
      "Layer (type)                 Output Shape              Param #   \n",
      "=================================================================\n",
      "flatten_6 (Flatten)          (None, 10000)             0         \n",
      "_________________________________________________________________\n",
      "dense_12 (Dense)             (None, 256)               2560256   \n",
      "_________________________________________________________________\n",
      "dropout_10 (Dropout)         (None, 256)               0         \n",
      "_________________________________________________________________\n",
      "dense_13 (Dense)             (None, 256)               65792     \n",
      "_________________________________________________________________\n",
      "dense_14 (Dense)             (None, 13)                3341      \n",
      "=================================================================\n",
      "Total params: 2,629,389\n",
      "Trainable params: 2,629,389\n",
      "Non-trainable params: 0\n",
      "_________________________________________________________________\n"
     ]
    }
   ],
   "source": [
    "top_model.summary()"
   ]
  },
  {
   "cell_type": "code",
   "execution_count": 85,
   "metadata": {},
   "outputs": [],
   "source": [
    "low_model = Sequential()\n",
    "low_model.add(layers.Input(shape=(200,)))\n",
    "low_model.add(Flatten())\n",
    "low_model.add(Dense(256, activation='relu'))\n",
    "low_model.add(Dropout(0.1))\n",
    "low_model.add(Dense(256, activation='relu'))\n",
    "low_model.add(Dense(13, activation='sigmoid'))\n"
   ]
  },
  {
   "cell_type": "code",
   "execution_count": 86,
   "metadata": {},
   "outputs": [],
   "source": [
    "from keras.models import Model\n",
    "from keras.layers import *\n",
    "\n",
    "mergedOut = Add()([top_model.output,low_model.output])\n",
    "newModel = Model([top_model.input,low_model.input], mergedOut)"
   ]
  },
  {
   "cell_type": "code",
   "execution_count": 102,
   "metadata": {},
   "outputs": [
    {
     "name": "stdout",
     "output_type": "stream",
     "text": [
      "Epoch 1/5\n",
      "9/9 [==============================] - 5s 196ms/step - loss: 1.2864 - accuracy: 0.3660 - val_loss: 1.2330 - val_accuracy: 0.4000\n",
      "Epoch 2/5\n",
      "9/9 [==============================] - 1s 69ms/step - loss: 1.0907 - accuracy: 0.3594 - val_loss: 1.1351 - val_accuracy: 0.4000\n",
      "Epoch 3/5\n",
      "9/9 [==============================] - 0s 58ms/step - loss: 0.9014 - accuracy: 0.4399 - val_loss: 0.9873 - val_accuracy: 0.5667\n",
      "Epoch 4/5\n",
      "9/9 [==============================] - 0s 58ms/step - loss: 0.6542 - accuracy: 0.7755 - val_loss: 0.7787 - val_accuracy: 0.7667\n",
      "Epoch 5/5\n",
      "9/9 [==============================] - 0s 57ms/step - loss: 0.3659 - accuracy: 0.9642 - val_loss: 0.6380 - val_accuracy: 0.8333\n",
      "125/125 [==============================] - 2s 11ms/step - loss: 0.6853 - accuracy: 0.8145\n"
     ]
    }
   ],
   "source": [
    "newModel.compile(loss='categorical_crossentropy', optimizer='adam', metrics=['accuracy'])\n",
    "batch_size = 32\n",
    "history1 = newModel.fit([x_train, pd.DataFrame(x_train).iloc[:,:200] ], y_train, batch_size=batch_size, epochs=5, verbose=1, validation_split=0.1)\n",
    "score1 = newModel.evaluate([x_test, pd.DataFrame(x_test).iloc[:,:200] ], y_test, batch_size=batch_size, verbose=1)"
   ]
  },
  {
   "cell_type": "code",
   "execution_count": 80,
   "metadata": {},
   "outputs": [
    {
     "name": "stdout",
     "output_type": "stream",
     "text": [
      "Epoch 1/5\n",
      "9/9 [==============================] - 3s 144ms/step - loss: 2.4955 - accuracy: 0.3130 - val_loss: 2.2116 - val_accuracy: 0.4000\n",
      "Epoch 2/5\n",
      "9/9 [==============================] - 0s 51ms/step - loss: 2.0993 - accuracy: 0.3607 - val_loss: 1.6503 - val_accuracy: 0.4000\n",
      "Epoch 3/5\n",
      "9/9 [==============================] - 0s 49ms/step - loss: 1.6313 - accuracy: 0.3688 - val_loss: 1.3967 - val_accuracy: 0.4333\n",
      "Epoch 4/5\n",
      "9/9 [==============================] - 0s 29ms/step - loss: 1.2316 - accuracy: 0.5655 - val_loss: 1.2199 - val_accuracy: 0.6333\n",
      "Epoch 5/5\n",
      "9/9 [==============================] - 0s 33ms/step - loss: 1.0324 - accuracy: 0.7532 - val_loss: 1.0279 - val_accuracy: 0.6667\n",
      "125/125 [==============================] - 2s 14ms/step - loss: 1.1187 - accuracy: 0.7135 0s - loss: 1.1115 - accuracy\n"
     ]
    }
   ],
   "source": [
    "top_model.compile(loss='categorical_crossentropy', optimizer='adam', metrics=['accuracy'])\n",
    "batch_size = 32\n",
    "history = top_model.fit(x_train, y_train, batch_size=batch_size, epochs=5, verbose=1, validation_split=0.1)\n",
    "score = top_model.evaluate(x_test, y_test, batch_size=batch_size, verbose=1)"
   ]
  },
  {
   "cell_type": "code",
   "execution_count": null,
   "metadata": {},
   "outputs": [],
   "source": []
  },
  {
   "cell_type": "code",
   "execution_count": null,
   "metadata": {},
   "outputs": [],
   "source": []
  },
  {
   "cell_type": "code",
   "execution_count": null,
   "metadata": {},
   "outputs": [],
   "source": []
  },
  {
   "cell_type": "code",
   "execution_count": null,
   "metadata": {},
   "outputs": [],
   "source": []
  },
  {
   "cell_type": "code",
   "execution_count": null,
   "metadata": {},
   "outputs": [],
   "source": []
  },
  {
   "cell_type": "code",
   "execution_count": null,
   "metadata": {},
   "outputs": [],
   "source": [
    "#https://www.tensorflow.org/guide/keras/save_and_serialize\n",
    "model.save(\"my_model\")"
   ]
  },
  {
   "cell_type": "code",
   "execution_count": null,
   "metadata": {},
   "outputs": [],
   "source": [
    ")"
   ]
  },
  {
   "cell_type": "code",
   "execution_count": null,
   "metadata": {},
   "outputs": [],
   "source": []
  }
 ],
 "metadata": {
  "kernelspec": {
   "display_name": "Python 3",
   "language": "python",
   "name": "python3"
  },
  "language_info": {
   "codemirror_mode": {
    "name": "ipython",
    "version": 3
   },
   "file_extension": ".py",
   "mimetype": "text/x-python",
   "name": "python",
   "nbconvert_exporter": "python",
   "pygments_lexer": "ipython3",
   "version": "3.7.7"
  }
 },
 "nbformat": 4,
 "nbformat_minor": 4
}
